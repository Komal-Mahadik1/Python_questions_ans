{
 "cells": [
  {
   "cell_type": "code",
   "execution_count": 1,
   "id": "0b7a224b",
   "metadata": {},
   "outputs": [
    {
     "name": "stdout",
     "output_type": "stream",
     "text": [
      "'my apple' -> ['my']\n",
      "'' -> []\n",
      "'lorem ipsum consecteture adipiscing elit.' -> ['consecteture']\n",
      "'a bbb ccccc' -> []\n",
      "'This sentence has multiple words with the same even length like apple and orange.' -> ['sentence', 'multiple']\n"
     ]
    }
   ],
   "source": [
    "#Modify the longest_even function to return a list of all words with the \"longest even length\" instead of \n",
    "#just the first one found. Additionally, ensure that the function ignores any leading or trailing whitespace in the input string\n",
    "\n",
    "def longest_even(test):\n",
    "    longest_length = 0\n",
    "    longest_words = []\n",
    "    for word in test.strip().split():\n",
    "        if len(word) % 2 == 0 and len(word) >= longest_length:\n",
    "            if len(word) > longest_length:\n",
    "                longest_words = [word]\n",
    "                longest_length = len(word)\n",
    "            else:\n",
    "                longest_words.append(word)\n",
    "    return longest_words\n",
    "\n",
    "strings = [\n",
    "    \"my apple\",  # --> [\"my\"]\n",
    "    \"\",  # --> []\n",
    "    \"lorem ipsum consecteture adipiscing elit.\",  # --> [\"adipiscing\"]\n",
    "    \"a bbb ccccc\",  # --> []\n",
    "    \"This sentence has multiple words with the same even length like apple and orange.\"  # --> [\"apple\", \"orange\"]\n",
    "]\n",
    "\n",
    "for string in strings:\n",
    "    print(f\"'{string}' -> {longest_even(string)}\")"
   ]
  },
  {
   "cell_type": "code",
   "execution_count": null,
   "id": "fa8d823c",
   "metadata": {},
   "outputs": [],
   "source": []
  }
 ],
 "metadata": {
  "kernelspec": {
   "display_name": "Python 3 (ipykernel)",
   "language": "python",
   "name": "python3"
  },
  "language_info": {
   "codemirror_mode": {
    "name": "ipython",
    "version": 3
   },
   "file_extension": ".py",
   "mimetype": "text/x-python",
   "name": "python",
   "nbconvert_exporter": "python",
   "pygments_lexer": "ipython3",
   "version": "3.11.5"
  }
 },
 "nbformat": 4,
 "nbformat_minor": 5
}
