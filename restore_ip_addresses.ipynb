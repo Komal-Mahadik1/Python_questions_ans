{
 "cells": [
  {
   "cell_type": "code",
   "execution_count": 1,
   "id": "f258b110",
   "metadata": {},
   "outputs": [
    {
     "name": "stdout",
     "output_type": "stream",
     "text": [
      "['255.25.51.113', '255.255.1.113', '255.255.11.13', '255.255.111.3']\n"
     ]
    }
   ],
   "source": [
    "'''A valid IP address consists of exactly four integers separated by single dots. Each integer is between 0 and 255 (inclusive) \n",
    "and cannot have leading zeros.\n",
    "\n",
    "Given a string s containing only digits, return all possible valid IP addresses that can be formed by inserting dots into s. \n",
    "You are not allowed to reorder or remove any digits in s. You may return the valid IP addresses in any order.'''\n",
    "\n",
    "\n",
    "\n",
    "\n",
    "def restore_ip_addresses(s):\n",
    "    def backtrack(start, path):\n",
    "        if start == len(s) and len(path) == 4:\n",
    "            result.append(\".\".join(path))\n",
    "            return\n",
    "        if len(path) >= 4:\n",
    "            return\n",
    "\n",
    "        for end in range(start + 1, min(start + 4, len(s) + 1)):\n",
    "            segment = s[start:end]\n",
    "\n",
    "            if segment == \"0\" or (segment[0] != \"0\" and 0 < int(segment) <= 255):\n",
    "                backtrack(end, path + [segment])\n",
    "\n",
    "    result = []\n",
    "    backtrack(0, [])\n",
    "    return result\n",
    "\n",
    "# Example usage\n",
    "s = \"2552551113\"\n",
    "output = restore_ip_addresses(s)\n",
    "print(output)\n"
   ]
  }
 ],
 "metadata": {
  "kernelspec": {
   "display_name": "Python 3 (ipykernel)",
   "language": "python",
   "name": "python3"
  },
  "language_info": {
   "codemirror_mode": {
    "name": "ipython",
    "version": 3
   },
   "file_extension": ".py",
   "mimetype": "text/x-python",
   "name": "python",
   "nbconvert_exporter": "python",
   "pygments_lexer": "ipython3",
   "version": "3.11.5"
  }
 },
 "nbformat": 4,
 "nbformat_minor": 5
}
