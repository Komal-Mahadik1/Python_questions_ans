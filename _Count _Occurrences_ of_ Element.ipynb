{
 "cells": [
  {
   "cell_type": "code",
   "execution_count": 1,
   "id": "499cc39b",
   "metadata": {},
   "outputs": [
    {
     "name": "stdout",
     "output_type": "stream",
     "text": [
      "Kitne elements daalne hain: 4\n",
      "Element daalo: 3\n",
      "Element daalo: 3\n",
      "Element daalo: 4\n",
      "Element daalo: 5\n",
      "Ginwana hai kaunsa number kitni baar aaya hai: 3\n",
      "Number of times 3 appears is 2\n"
     ]
    }
   ],
   "source": [
    "a = []\n",
    "n = int(input(\"Kitne elements daalne hain: \"))\n",
    "\n",
    "for i in range(1, n + 1):\n",
    "    b = int(input(\"Element daalo: \"))\n",
    "    a.append(b)\n",
    "\n",
    "k = 0\n",
    "num = int(input(\"Ginwana hai kaunsa number kitni baar aaya hai: \"))\n",
    "\n",
    "for j in a:\n",
    "    if j == num:\n",
    "        k = k + 1\n",
    "\n",
    "print(\"Number of times\", num, \"appears is\", k)"
   ]
  }
 ],
 "metadata": {
  "kernelspec": {
   "display_name": "Python 3 (ipykernel)",
   "language": "python",
   "name": "python3"
  },
  "language_info": {
   "codemirror_mode": {
    "name": "ipython",
    "version": 3
   },
   "file_extension": ".py",
   "mimetype": "text/x-python",
   "name": "python",
   "nbconvert_exporter": "python",
   "pygments_lexer": "ipython3",
   "version": "3.11.5"
  }
 },
 "nbformat": 4,
 "nbformat_minor": 5
}
