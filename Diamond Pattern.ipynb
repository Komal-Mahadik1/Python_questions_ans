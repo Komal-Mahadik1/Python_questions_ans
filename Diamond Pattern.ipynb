{
 "cells": [
  {
   "cell_type": "code",
   "execution_count": 1,
   "id": "ad3e3d51",
   "metadata": {},
   "outputs": [
    {
     "name": "stdout",
     "output_type": "stream",
     "text": [
      "  *\n",
      " ***\n",
      "*****\n",
      " ***\n",
      "  *\n"
     ]
    }
   ],
   "source": [
    "#Diamond Pattern: Implement a program to print a diamond pattern using asterisks, with a given number of rows.\n",
    "\n",
    "\n",
    "\n",
    "def print_diamond(rows):\n",
    "    # Upper half of the diamond\n",
    "    for i in range(1, rows + 1, 2):\n",
    "        print(' ' * ((rows - i) // 2) + '*' * i)\n",
    "\n",
    "    # Lower half of the diamond\n",
    "    for i in range(rows - 2, 0, -2):\n",
    "        print(' ' * ((rows - i) // 2) + '*' * i)\n",
    "\n",
    "# Example usage:\n",
    "rows = 5  # Change this to adjust the size of the diamond\n",
    "print_diamond(rows)"
   ]
  },
  {
   "cell_type": "code",
   "execution_count": null,
   "id": "83aa6dce",
   "metadata": {},
   "outputs": [],
   "source": []
  }
 ],
 "metadata": {
  "kernelspec": {
   "display_name": "Python 3 (ipykernel)",
   "language": "python",
   "name": "python3"
  },
  "language_info": {
   "codemirror_mode": {
    "name": "ipython",
    "version": 3
   },
   "file_extension": ".py",
   "mimetype": "text/x-python",
   "name": "python",
   "nbconvert_exporter": "python",
   "pygments_lexer": "ipython3",
   "version": "3.11.5"
  }
 },
 "nbformat": 4,
 "nbformat_minor": 5
}
