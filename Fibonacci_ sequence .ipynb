{
 "cells": [
  {
   "cell_type": "code",
   "execution_count": 1,
   "id": "f403b44b",
   "metadata": {},
   "outputs": [
    {
     "data": {
      "text/plain": [
       "([0, 1, 1, 2, 3, 5, 8, 13, 21, 34], 88)"
      ]
     },
     "execution_count": 1,
     "metadata": {},
     "output_type": "execute_result"
    }
   ],
   "source": [
    "#Write a program that generates the first 10 numbers in the Fibonacci sequence \n",
    "#and calculates the sum of the numbers.\n",
    "def fib_sum():\n",
    "    list_fib = [0,1]\n",
    "    sum_of_fib_num = 0\n",
    "\n",
    "    while len(list_fib) < 10:\n",
    "        fib = list_fib[-1] + list_fib[-2]\n",
    "        list_fib.append(fib)\n",
    "        #print(list_fib)\n",
    "        \n",
    "    for i in list_fib:\n",
    "        sum_of_fib_num = i + sum_of_fib_num\n",
    "        #print(sum_of_fib_num)\n",
    "    return list_fib , sum_of_fib_num\n",
    "\n",
    "fib_sum()"
   ]
  },
  {
   "cell_type": "code",
   "execution_count": 2,
   "id": "ea2583e1",
   "metadata": {},
   "outputs": [
    {
     "data": {
      "text/plain": [
       "[0, 1, 1, 2, 3, 5, 8, 13, 21, 34]"
      ]
     },
     "execution_count": 2,
     "metadata": {},
     "output_type": "execute_result"
    }
   ],
   "source": [
    "n = 10\n",
    "def fibonacci(n):\n",
    "    fib_sequence = [0, 1]\n",
    "    while len(fib_sequence) < n:\n",
    "        fib_sequence.append(fib_sequence[-1] + fib_sequence[-2])\n",
    "    return fib_sequence\n",
    "fibonacci(n)"
   ]
  },
  {
   "cell_type": "code",
   "execution_count": null,
   "id": "4a29cd03",
   "metadata": {},
   "outputs": [],
   "source": []
  }
 ],
 "metadata": {
  "kernelspec": {
   "display_name": "Python 3 (ipykernel)",
   "language": "python",
   "name": "python3"
  },
  "language_info": {
   "codemirror_mode": {
    "name": "ipython",
    "version": 3
   },
   "file_extension": ".py",
   "mimetype": "text/x-python",
   "name": "python",
   "nbconvert_exporter": "python",
   "pygments_lexer": "ipython3",
   "version": "3.11.5"
  }
 },
 "nbformat": 4,
 "nbformat_minor": 5
}
