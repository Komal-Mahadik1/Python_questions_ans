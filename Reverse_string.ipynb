{
 "cells": [
  {
   "cell_type": "code",
   "execution_count": 1,
   "id": "7e56f12d",
   "metadata": {},
   "outputs": [
    {
     "name": "stdout",
     "output_type": "stream",
     "text": [
      "[11, 16, 18]\n",
      "[11, 16, 18]\n",
      "[11, 16, 18]\n",
      "QedocteeLgn=1tse-T!\n"
     ]
    }
   ],
   "source": [
    "string=\"Test1ngLeet=code-Q!\"\n",
    "string_list=list(string)\n",
    "chars=[\"=\",'-','!']\n",
    "\n",
    "#remove chars in string_list and also checking positions of special chars of the string_list\n",
    "remove_chars_string_list=[]\n",
    "positions=[]\n",
    "for i in range(len(string_list)):\n",
    "    if string_list[i] in chars:\n",
    "        positions.append(i)\n",
    "        continue\n",
    "    else:\n",
    "        remove_chars_string_list.append(string_list[i])\n",
    "\n",
    "        # now reverse the remove_chars_string_list\n",
    "reverse_chars_string_list=[]\n",
    "for i in range(len(remove_chars_string_list)-1,-1,-1):\n",
    "    reverse_chars_string_list.append(remove_chars_string_list[i])\n",
    "\n",
    "    # now check positions of chars in string_list\n",
    "\n",
    "for i in range(len(positions)):\n",
    "    reverse_chars_string_list.insert(positions[i],chars[i])\n",
    "    print(positions)\n",
    "print(''.join(reverse_chars_string_list))"
   ]
  }
 ],
 "metadata": {
  "kernelspec": {
   "display_name": "Python 3 (ipykernel)",
   "language": "python",
   "name": "python3"
  },
  "language_info": {
   "codemirror_mode": {
    "name": "ipython",
    "version": 3
   },
   "file_extension": ".py",
   "mimetype": "text/x-python",
   "name": "python",
   "nbconvert_exporter": "python",
   "pygments_lexer": "ipython3",
   "version": "3.11.5"
  }
 },
 "nbformat": 4,
 "nbformat_minor": 5
}
