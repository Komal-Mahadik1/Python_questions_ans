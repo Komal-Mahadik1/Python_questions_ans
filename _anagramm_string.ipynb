{
 "cells": [
  {
   "cell_type": "code",
   "execution_count": 1,
   "id": "4e66243f",
   "metadata": {},
   "outputs": [],
   "source": [
    "string =[\"hello\",\"omalk\",\"vilas\",\"dikmaha\", \"hello\", \"world\", \"python\",\"tom\",\"mot\"]\n",
    "\n",
    "def anagramm_list():\n",
    "    for i in range(len(string)):\n",
    "        word=string[i]\n",
    "        \n",
    "        for j in range(i+1,len(string)):\n",
    "            wordie=string[j]\n",
    "            \n",
    "            word=sorted(word)\n",
    "            wordie=sorted(wordie)\n",
    "            \n",
    "            if word==wordie:\n",
    "                print(\"Anagram list are:\" ,string[i], string[j])\n",
    "                \n",
    "    return \"done\"\n",
    "        "
   ]
  },
  {
   "cell_type": "code",
   "execution_count": 2,
   "id": "cf0a5540",
   "metadata": {},
   "outputs": [
    {
     "name": "stdout",
     "output_type": "stream",
     "text": [
      "Anagram list are: hello hello\n",
      "Anagram list are: tom mot\n"
     ]
    },
    {
     "data": {
      "text/plain": [
       "'done'"
      ]
     },
     "execution_count": 2,
     "metadata": {},
     "output_type": "execute_result"
    }
   ],
   "source": [
    "anagramm_list()"
   ]
  },
  {
   "cell_type": "code",
   "execution_count": null,
   "id": "b2ac0ba3",
   "metadata": {},
   "outputs": [],
   "source": []
  }
 ],
 "metadata": {
  "kernelspec": {
   "display_name": "Python 3 (ipykernel)",
   "language": "python",
   "name": "python3"
  },
  "language_info": {
   "codemirror_mode": {
    "name": "ipython",
    "version": 3
   },
   "file_extension": ".py",
   "mimetype": "text/x-python",
   "name": "python",
   "nbconvert_exporter": "python",
   "pygments_lexer": "ipython3",
   "version": "3.11.5"
  }
 },
 "nbformat": 4,
 "nbformat_minor": 5
}
