{
 "cells": [
  {
   "cell_type": "code",
   "execution_count": 1,
   "id": "a3a5f2fa",
   "metadata": {},
   "outputs": [
    {
     "data": {
      "text/plain": [
       "'olleh'"
      ]
     },
     "execution_count": 1,
     "metadata": {},
     "output_type": "execute_result"
    }
   ],
   "source": [
    "#python function to reverse the string\n",
    "\n",
    "string = 'hello'\n",
    "\n",
    "def reverse_string(string):\n",
    "    \n",
    "    index = len(string) \n",
    "    reversed_str = ''\n",
    "    \n",
    "    while index > 0:\n",
    "        \n",
    "        reversed_str += string[index - 1]     \n",
    "        index = index - 1\n",
    "        \n",
    "    return reversed_str\n",
    "\n",
    "reverse_string(string)"
   ]
  },
  {
   "cell_type": "code",
   "execution_count": 2,
   "id": "18b14560",
   "metadata": {},
   "outputs": [
    {
     "data": {
      "text/plain": [
       "'!dlroW olleH'"
      ]
     },
     "execution_count": 2,
     "metadata": {},
     "output_type": "execute_result"
    }
   ],
   "source": [
    "string = 'Hello World!'\n",
    "def reverse_string(string1):\n",
    "    reverse_string = \"\"  \n",
    "    for i in string:\n",
    "        reverse_string = i + reverse_string   \n",
    "        \n",
    "    return reverse_string\n",
    "reverse_string(string)"
   ]
  },
  {
   "cell_type": "code",
   "execution_count": 4,
   "id": "4afef337",
   "metadata": {},
   "outputs": [
    {
     "data": {
      "text/plain": [
       "'!dlroW olleH'"
      ]
     },
     "execution_count": 4,
     "metadata": {},
     "output_type": "execute_result"
    }
   ],
   "source": [
    "string = 'Hello World!'\n",
    "def reversee(string):\n",
    "    \n",
    "    reverse = string[::-1]\n",
    "    return reverse\n",
    "reversee(string)"
   ]
  },
  {
   "cell_type": "code",
   "execution_count": 5,
   "id": "e9e588b6",
   "metadata": {},
   "outputs": [
    {
     "data": {
      "text/plain": [
       "'!dlroW olleH'"
      ]
     },
     "execution_count": 5,
     "metadata": {},
     "output_type": "execute_result"
    }
   ],
   "source": [
    "def swap_reverse():\n",
    "    \n",
    "    start = 0 \n",
    "    end = len(string) - 1\n",
    "    \n",
    "    string_list = list(string)\n",
    "    while start < end:\n",
    "        string_list[start],string_list[end] = string_list[end],string_list[start]\n",
    "        start+=1\n",
    "        end-=1\n",
    "        \n",
    "    reverse_string = \"\"\n",
    "    for i in string_list:\n",
    "        \n",
    "        reverse_string = reverse_string + i\n",
    "        \n",
    "    return reverse_string\n",
    "swap_reverse()"
   ]
  }
 ],
 "metadata": {
  "kernelspec": {
   "display_name": "Python 3 (ipykernel)",
   "language": "python",
   "name": "python3"
  },
  "language_info": {
   "codemirror_mode": {
    "name": "ipython",
    "version": 3
   },
   "file_extension": ".py",
   "mimetype": "text/x-python",
   "name": "python",
   "nbconvert_exporter": "python",
   "pygments_lexer": "ipython3",
   "version": "3.11.5"
  }
 },
 "nbformat": 4,
 "nbformat_minor": 5
}
