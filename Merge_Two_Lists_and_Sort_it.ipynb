{
 "cells": [
  {
   "cell_type": "code",
   "execution_count": 1,
   "id": "133c8488",
   "metadata": {},
   "outputs": [
    {
     "name": "stdout",
     "output_type": "stream",
     "text": [
      "Enter number of elements:3\n",
      "Enter element:5\n",
      "Enter element:6\n",
      "Enter element:7\n",
      "Enter number of elements:4\n",
      "Enter element:65\n",
      "Enter element:7\n",
      "Enter element:4\n",
      "Enter element:3\n",
      "Sorted list is: [3, 4, 5, 6, 7, 7, 65]\n"
     ]
    }
   ],
   "source": [
    "a=[]\n",
    "c=[]\n",
    "\n",
    "n1=int(input(\"Enter number of elements:\"))\n",
    "for i in range(1,n1+1):\n",
    "    b=int(input(\"Enter element:\"))\n",
    "    a.append(b)\n",
    "\n",
    "\n",
    "n2=int(input(\"Enter number of elements:\"))\n",
    "for i in range(1,n2+1):\n",
    "    d=int(input(\"Enter element:\"))\n",
    "    c.append(d)\n",
    "\n",
    "    new=a+c\n",
    "\n",
    "new.sort()\n",
    "print(\"Sorted list is:\",new)"
   ]
  }
 ],
 "metadata": {
  "kernelspec": {
   "display_name": "Python 3 (ipykernel)",
   "language": "python",
   "name": "python3"
  },
  "language_info": {
   "codemirror_mode": {
    "name": "ipython",
    "version": 3
   },
   "file_extension": ".py",
   "mimetype": "text/x-python",
   "name": "python",
   "nbconvert_exporter": "python",
   "pygments_lexer": "ipython3",
   "version": "3.11.5"
  }
 },
 "nbformat": 4,
 "nbformat_minor": 5
}
