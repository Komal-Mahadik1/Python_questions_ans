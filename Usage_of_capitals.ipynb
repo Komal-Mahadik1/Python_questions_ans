{
 "cells": [
  {
   "cell_type": "code",
   "execution_count": 1,
   "id": "59a599da",
   "metadata": {},
   "outputs": [
    {
     "name": "stdout",
     "output_type": "stream",
     "text": [
      "True\n",
      "True\n",
      "True\n",
      "False\n"
     ]
    }
   ],
   "source": [
    "'''We define the usage of capitals in a word to be right when one of the following cases holds:\n",
    "\n",
    "All letters in this word are capitals, like \"USA\".\n",
    "All letters in this word are not capitals, like \"leetcode\".\n",
    "Only the first letter in this word is capital, like \"Google\".\n",
    "Given a string word, return true if the usage of capitals in it is right.\n",
    "\n",
    " \n",
    "\n",
    "Example 1:\n",
    "\n",
    "Input: word = \"USA\"\n",
    "Output: true\n",
    "Example 2:\n",
    "\n",
    "Input: word = \"FlaG\"\n",
    "Output: false\n",
    " \n",
    "\n",
    "Constraints:\n",
    "\n",
    "1 <= word.length <= 100\n",
    "word consists of lowercase and uppercase English letters.'''\n",
    "\n",
    "\n",
    "\n",
    "def isRightUsage(word):\n",
    "    # Check if all letters are uppercase\n",
    "    if word.isupper():\n",
    "        return True\n",
    "    # Check if all letters are lowercase\n",
    "    elif word.islower():\n",
    "        return True\n",
    "    # Check if only the first letter is uppercase\n",
    "    elif word[0].isupper() and word[1:].islower():\n",
    "        return True\n",
    "    else:\n",
    "        return False\n",
    "\n",
    "# Example usage:\n",
    "word1 = \"USA\"\n",
    "word2 = \"leetcode\"\n",
    "word3 = \"Google\"\n",
    "word4 = \"FlaG\"\n",
    "\n",
    "print(isRightUsage(word1))  # Output: True\n",
    "print(isRightUsage(word2))  # Output: True\n",
    "print(isRightUsage(word3))  # Output: True\n",
    "print(isRightUsage(word4))  # Output: False\n"
   ]
  }
 ],
 "metadata": {
  "kernelspec": {
   "display_name": "Python 3 (ipykernel)",
   "language": "python",
   "name": "python3"
  },
  "language_info": {
   "codemirror_mode": {
    "name": "ipython",
    "version": 3
   },
   "file_extension": ".py",
   "mimetype": "text/x-python",
   "name": "python",
   "nbconvert_exporter": "python",
   "pygments_lexer": "ipython3",
   "version": "3.11.5"
  }
 },
 "nbformat": 4,
 "nbformat_minor": 5
}
