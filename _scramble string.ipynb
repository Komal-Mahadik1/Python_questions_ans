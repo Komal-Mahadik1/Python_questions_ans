{
 "cells": [
  {
   "cell_type": "code",
   "execution_count": null,
   "id": "6c4126d7",
   "metadata": {},
   "outputs": [],
   "source": [
    "'''examples:--s1 = \"school\"  s2 = \"loshoc\"  == this is scramble string\n",
    "examples:--s1 = \"abc\"     s2 = \"abcd\"    == this is not scramble string\n",
    "\n",
    "in scramble string we want length and cahracter same'''\n",
    "\n",
    "\n",
    "def isScramble(s1, s2):    \n",
    "    if len(s1) != len(s2) or sorted(s1) != sorted(s2): \n",
    "        return False              \n",
    "\n",
    "    if s1 == s2:         \n",
    "        return True\n",
    "\n",
    "    length = len(s1)      \n",
    "\n",
    "    for i in range(1, length):  \n",
    "        if (isScramble(s1[:i], s2[:i]) and isScramble(s1[i:], s2[i:])) or \\\n",
    "           (isScramble(s1[:i], s2[length - i:]) and isScramble(s1[i:], s2[:length - i])):\n",
    "            return True              \n",
    "\n",
    "    return False\n",
    "\n",
    "# Example usage:\n",
    "s1 = \"table\"\n",
    "s2 = \"letab\"\n",
    "result = isScramble(s1, s2)\n",
    "print(result)\n"
   ]
  }
 ],
 "metadata": {
  "kernelspec": {
   "display_name": "Python 3 (ipykernel)",
   "language": "python",
   "name": "python3"
  },
  "language_info": {
   "codemirror_mode": {
    "name": "ipython",
    "version": 3
   },
   "file_extension": ".py",
   "mimetype": "text/x-python",
   "name": "python",
   "nbconvert_exporter": "python",
   "pygments_lexer": "ipython3",
   "version": "3.11.5"
  }
 },
 "nbformat": 4,
 "nbformat_minor": 5
}
