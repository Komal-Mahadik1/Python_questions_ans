{
 "cells": [
  {
   "cell_type": "code",
   "execution_count": 1,
   "id": "6429ba51",
   "metadata": {},
   "outputs": [
    {
     "name": "stdout",
     "output_type": "stream",
     "text": [
      "Original lists:\n",
      "[[1, 3], [5, 7], [9, 11]]\n",
      "[[2, 4], [6, 8], [10, 12, 14]]\n",
      "\n",
      "Zipped list:\n",
      "[[1, 3, 2, 4], [5, 7, 6, 8], [9, 11, 10, 12, 14]]\n"
     ]
    }
   ],
   "source": [
    "'''Write a Python program to Zip two given lists of lists.\n",
    "Original lists: [[1, 3], [5, 7], [9, 11]]           [[2, 4], [6, 8], [10, 12, 14]]\n",
    "Zipped list:   [[1, 3, 2, 4], [5, 7, 6, 8], [9, 11, 10, 12, 14]]'''\n",
    "\n",
    "\n",
    "\n",
    "list1 = [[1, 3], [5, 7], [9, 11]]\n",
    "list2 = [[2, 4], [6, 8], [10, 12, 14]]\n",
    "print(\"Original lists:\")\n",
    "print(list1)\n",
    "print(list2)\n",
    "result = list(map(list.__add__, list1, list2))  # map is inbuilt function in python, __add__ inbuilt method\n",
    "print(\"\\nZipped list:\\n\" +  str(result))   #  \"\\n\" to create space in the output      \n"
   ]
  }
 ],
 "metadata": {
  "kernelspec": {
   "display_name": "Python 3 (ipykernel)",
   "language": "python",
   "name": "python3"
  },
  "language_info": {
   "codemirror_mode": {
    "name": "ipython",
    "version": 3
   },
   "file_extension": ".py",
   "mimetype": "text/x-python",
   "name": "python",
   "nbconvert_exporter": "python",
   "pygments_lexer": "ipython3",
   "version": "3.11.5"
  }
 },
 "nbformat": 4,
 "nbformat_minor": 5
}
