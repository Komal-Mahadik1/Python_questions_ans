{
 "cells": [
  {
   "cell_type": "code",
   "execution_count": 1,
   "id": "0d2002b8",
   "metadata": {},
   "outputs": [
    {
     "name": "stdout",
     "output_type": "stream",
     "text": [
      "level\n"
     ]
    },
    {
     "data": {
      "text/plain": [
       "'It is a palindrome. '"
      ]
     },
     "execution_count": 1,
     "metadata": {},
     "output_type": "execute_result"
    }
   ],
   "source": [
    "#check whether the string is palindrome.\n",
    "\n",
    "def palindrome_functiom(string):\n",
    "    index = len(string)\n",
    "    reversed_word = ''\n",
    "    for i in string:\n",
    "        reversed_word = i + reversed_word\n",
    "    print(reversed_word)\n",
    "    \n",
    "    if reversed_word == string:\n",
    "        return ('It is a palindrome. ')\n",
    "\n",
    "palindrome_functiom('level')"
   ]
  },
  {
   "cell_type": "code",
   "execution_count": 2,
   "id": "915bb2f5",
   "metadata": {},
   "outputs": [],
   "source": [
    "string = \"level\"\n",
    "def is_palindrome(string):\n",
    "    \n",
    "    string = string.upper()\n",
    "    list_put = list(string)\n",
    "    \n",
    "    \n",
    "    start = 0\n",
    "    end = len(list_put) - 1\n",
    "    \n",
    "    \n",
    "    while start < end:\n",
    "        list_put[start],list_put[end] = list_put[end],list_put[start]\n",
    "        start += 1\n",
    "        end -= 1\n",
    "            \n",
    "    for i in range(len(list_put)):\n",
    "        if list_put[i] != string[i]:\n",
    "            return 'not a Palindrome'\n",
    "        \n",
    "    return 'palindrome'"
   ]
  },
  {
   "cell_type": "code",
   "execution_count": 4,
   "id": "77798116",
   "metadata": {},
   "outputs": [
    {
     "data": {
      "text/plain": [
       "'palindrome'"
      ]
     },
     "execution_count": 4,
     "metadata": {},
     "output_type": "execute_result"
    }
   ],
   "source": [
    "is_palindrome(string)"
   ]
  },
  {
   "cell_type": "code",
   "execution_count": 5,
   "id": "a166ce26",
   "metadata": {},
   "outputs": [
    {
     "data": {
      "text/plain": [
       "'palidrome'"
      ]
     },
     "execution_count": 5,
     "metadata": {},
     "output_type": "execute_result"
    }
   ],
   "source": [
    "is_palindrome(string)\n",
    "def is_palindrome(string):\n",
    "    \n",
    "    reverse_string = \"\"  \n",
    "    for i in string:\n",
    "        reverse_string = i + reverse_string   \n",
    "        \n",
    "    if reverse_string == string:\n",
    "        return 'palidrome'\n",
    "    return 'not a palindrome'\n",
    "is_palindrome(string)"
   ]
  },
  {
   "cell_type": "code",
   "execution_count": null,
   "id": "555b58fd",
   "metadata": {},
   "outputs": [],
   "source": []
  }
 ],
 "metadata": {
  "kernelspec": {
   "display_name": "Python 3 (ipykernel)",
   "language": "python",
   "name": "python3"
  },
  "language_info": {
   "codemirror_mode": {
    "name": "ipython",
    "version": 3
   },
   "file_extension": ".py",
   "mimetype": "text/x-python",
   "name": "python",
   "nbconvert_exporter": "python",
   "pygments_lexer": "ipython3",
   "version": "3.11.5"
  }
 },
 "nbformat": 4,
 "nbformat_minor": 5
}
