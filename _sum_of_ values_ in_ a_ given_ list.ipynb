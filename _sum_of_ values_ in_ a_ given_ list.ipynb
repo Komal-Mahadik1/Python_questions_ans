{
 "cells": [
  {
   "cell_type": "code",
   "execution_count": 1,
   "id": "d898c891",
   "metadata": {},
   "outputs": [
    {
     "name": "stdout",
     "output_type": "stream",
     "text": [
      "Sum: 17\n"
     ]
    }
   ],
   "source": [
    "'''You need to find the sum of values in a given list, where each element is a tuple containing two values. The sum should only \n",
    "include those values for which the first element of the tuple is odd and the second element is even. The sum is calculated by \n",
    "squaring the first element and cubing the second element of each tuple.'''\n",
    "\n",
    "\n",
    "# Given list of tuples\n",
    "tuples_list = [(2, 3), (4, 5), (3, 2), (6, 4), (5, 7)]\n",
    "\n",
    "# Initialize sum to zero\n",
    "total_sum = 0\n",
    "\n",
    "# Iterate through each tuple in the list\n",
    "for tup in tuples_list:\n",
    "    # Check if the first element is odd and the second element is even\n",
    "    if tup[0] % 2 == 1 and tup[1] % 2 == 0:\n",
    "        # Add the square of the first element and the cube of the second element to the total sum\n",
    "        total_sum += tup[0] ** 2 + tup[1] ** 3\n",
    "\n",
    "# Print the final sum\n",
    "print(\"Sum:\", total_sum)\n"
   ]
  },
  {
   "cell_type": "code",
   "execution_count": null,
   "id": "1dbcb174",
   "metadata": {},
   "outputs": [],
   "source": []
  }
 ],
 "metadata": {
  "kernelspec": {
   "display_name": "Python 3 (ipykernel)",
   "language": "python",
   "name": "python3"
  },
  "language_info": {
   "codemirror_mode": {
    "name": "ipython",
    "version": 3
   },
   "file_extension": ".py",
   "mimetype": "text/x-python",
   "name": "python",
   "nbconvert_exporter": "python",
   "pygments_lexer": "ipython3",
   "version": "3.11.5"
  }
 },
 "nbformat": 4,
 "nbformat_minor": 5
}
