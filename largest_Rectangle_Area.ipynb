{
 "cells": [
  {
   "cell_type": "code",
   "execution_count": 1,
   "id": "439f2617",
   "metadata": {},
   "outputs": [
    {
     "name": "stdout",
     "output_type": "stream",
     "text": [
      "10\n"
     ]
    }
   ],
   "source": [
    "def largestRectangleArea(heights):\n",
    "    stack = []\n",
    "    max_area = 0\n",
    "\n",
    "    for i in range(len(heights)):\n",
    "        while stack and heights[i] < heights[stack[-1]]:\n",
    "            height = heights[stack.pop()]\n",
    "            width = i if not stack else i - stack[-1] - 1\n",
    "            max_area = max(max_area, height * width)\n",
    "\n",
    "        stack.append(i)\n",
    "\n",
    "    while stack:\n",
    "        height = heights[stack.pop()]\n",
    "        width = len(heights) if not stack else len(heights) - stack[-1] - 1\n",
    "        max_area = max(max_area, height * width)\n",
    "\n",
    "    return max_area\n",
    "\n",
    "# Example usage:\n",
    "histogram = [2, 1, 5, 6, 2, 3]\n",
    "result = largestRectangleArea(histogram)\n",
    "print(result)"
   ]
  }
 ],
 "metadata": {
  "kernelspec": {
   "display_name": "Python 3 (ipykernel)",
   "language": "python",
   "name": "python3"
  },
  "language_info": {
   "codemirror_mode": {
    "name": "ipython",
    "version": 3
   },
   "file_extension": ".py",
   "mimetype": "text/x-python",
   "name": "python",
   "nbconvert_exporter": "python",
   "pygments_lexer": "ipython3",
   "version": "3.11.5"
  }
 },
 "nbformat": 4,
 "nbformat_minor": 5
}
