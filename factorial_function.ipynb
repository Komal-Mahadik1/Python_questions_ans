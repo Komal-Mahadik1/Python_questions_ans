{
 "cells": [
  {
   "cell_type": "code",
   "execution_count": 1,
   "id": "d9b3ee2b",
   "metadata": {},
   "outputs": [
    {
     "name": "stdout",
     "output_type": "stream",
     "text": [
      "120\n"
     ]
    }
   ],
   "source": [
    "def factorial_function(number):\n",
    "    t = 1\n",
    "    remains = 1\n",
    "    \n",
    "    while number <= 0:\n",
    "        number = int(input('Enter only positive number : '))\n",
    "    \n",
    "    while t < number:\n",
    "        remains = remains * (number - t)\n",
    "        t += 1\n",
    "    \n",
    "    factorial = number * remains\n",
    "    return factorial\n",
    "\n",
    "result = factorial_function(5)\n",
    "print(result)"
   ]
  }
 ],
 "metadata": {
  "kernelspec": {
   "display_name": "Python 3 (ipykernel)",
   "language": "python",
   "name": "python3"
  },
  "language_info": {
   "codemirror_mode": {
    "name": "ipython",
    "version": 3
   },
   "file_extension": ".py",
   "mimetype": "text/x-python",
   "name": "python",
   "nbconvert_exporter": "python",
   "pygments_lexer": "ipython3",
   "version": "3.11.5"
  }
 },
 "nbformat": 4,
 "nbformat_minor": 5
}
